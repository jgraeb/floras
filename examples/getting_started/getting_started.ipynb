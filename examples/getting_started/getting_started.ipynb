{
 "cells": [
  {
   "cell_type": "markdown",
   "metadata": {},
   "source": [
    "# Getting Started with floras\n",
    "Floras is a tool for flow-based test environment synthesis. Every test is defined using a system model, a system objective, and a test objective. Floras then sets up and solves a mixed-integer linear program (MILP) that ensures that every test execution that satisfies the system objective will also satisfy the test objective.\n",
    "\n",
    "To follow along, please install floras according to the instructions in *[Installing](https://floras.readthedocs.io/en/latest/installing/)*."
   ]
  },
  {
   "cell_type": "markdown",
   "metadata": {},
   "source": [
    "## System Model\n",
    "The system model is a labeled transition system, consisting of the states, transitions, labels, and initial state of the system.\n",
    "We can set up this system model by defining the states and transitions explicitly, or if the problem is a grid world, we can use a text file that sets up this grid world.\n",
    "\n",
    "Let's set up the following problem:\n",
    "\n",
    "<img src=\"medium_grid.png\" alt=\"grid world layout\" width=\"300\"/>\n",
    "\n",
    "The system starts in the cell labeled $S$ (magenta), the terminal states are labeled $T$ (yellow), and in addition some cells are labeled $I$ (blue).\n",
    "\n",
    "We can set up this transition system in the following way:"
   ]
  },
  {
   "cell_type": "code",
   "execution_count": 11,
   "metadata": {},
   "outputs": [],
   "source": [
    "from floras.components.transition_system import TransitionSystemInput, TranSys\n",
    "\n",
    "rows = 3; cols = 5\n",
    "\n",
    "# defining the state for each cell on the grid\n",
    "states_list = [(i,j) for i in range(0,rows) for j in range(0,cols)]\n",
    "\n",
    "# defining the transitions from each cell on the grid\n",
    "transitions_dict = {}\n",
    "for i in range(rows):\n",
    "        for j in range(cols):\n",
    "            cell = (i, j)\n",
    "            neighbors = [(i + di, j + dj) for di, dj in [(-1, 0), (1, 0), (0, -1), (0, 1), (0, 0)]\n",
    "                         if 0 <= i + di < rows and 0 <= j + dj < cols]\n",
    "            transitions_dict[cell] = neighbors\n",
    "\n",
    "# defining the labeled states\n",
    "labels_dict = {(2,0): ['I'], (0,2): ['I'], (2,4): ['I'],  (0,0): ['goal'], (0,4): ['goal']}\n",
    "\n",
    "# defining the initial state\n",
    "init_list = [(2,2)]\n",
    "\n",
    "# creating the transition system input\n",
    "transition_system_input = TransitionSystemInput(\n",
    "    states_list, transitions_dict, labels_dict, init_list\n",
    ")\n",
    "\n",
    "# get transition system\n",
    "transys = TranSys(transition_system_input)"
   ]
  },
  {
   "cell_type": "markdown",
   "metadata": {},
   "source": [
    "We can simplify this code by using a text file for the grid layout. This text file consists of lines of text, with the character ```|``` at the end of each line. Every space corresponds to a grid cell, where ``` ``` is a normal grid cell, and ```*``` corresponds to a blocked cell that cannot be occupied by the system.\n",
    "\n",
    "For out example, the text file will represent an empty grid with dimensions $3x5$:\n",
    "```\n",
    "     |\n",
    "     |\n",
    "     |\n",
    "```\n",
    "This is saved in a file named *gridworld.txt*. We can then use the follwing function to automatically generate the states and transitions."
   ]
  },
  {
   "cell_type": "code",
   "execution_count": 12,
   "metadata": {},
   "outputs": [],
   "source": [
    "from floras.components.utils import get_states_and_transitions_from_file\n",
    "\n",
    "gridfile = \"gridworld.txt\"\n",
    "states_list, transitions_dict = get_states_and_transitions_from_file(gridfile)"
   ]
  },
  {
   "cell_type": "markdown",
   "metadata": {},
   "source": [
    "Followed by defining the desired labels and initial states as illustrated above."
   ]
  },
  {
   "cell_type": "markdown",
   "metadata": {},
   "source": [
    "## System Objective\n",
    "The system objective is an LTL specification consisting of at least one reachability sub-task, and optional safety and reaction sub-tasks. Given atomic propositions $p$ and $q$, that are true in the corresponding system states, the sub-tasks are given according to the following patterns:\n",
    "\n",
    "| Sub-task    | LTL Formula | Description |\n",
    "| -------- | ------- | --------|\n",
    "| Reachability  | $\\lozenge p$    | *eventually $p$*|\n",
    "| Sequenced Reachability | $\\lozenge (p \\land \\lozenge q)$ | *eventually $p$ and then eventually $q$*|\n",
    "| Safety    | $\\square p$    | *always $p$* |\n",
    "| Delayed Reaction | $p \\rightarrow \\lozenge q$| *p implies eventually $q$* |\n",
    "| Instantaneous Reaction | $p \\rightarrow q$| *p implies $q$* |\n",
    "\n",
    "Each system objective can be a conjuncton of multiple sub-tasks, including a reachability sub-task to the terminal state of the system.\n",
    "\n",
    "For the example problem, let's set up the system objective $\\varphi_{\\text{sys}}= \\lozenge \\text{goal}$. We can use the notation 'F' or '<>' to represent the eventually temporal operator."
   ]
  },
  {
   "cell_type": "code",
   "execution_count": 13,
   "metadata": {},
   "outputs": [],
   "source": [
    "from floras.components.automata import get_system_automaton\n",
    "\n",
    "sys_formula = 'F(goal)'  # 'F(goal)' or '<> goal' for 'eventually goal'\n",
    "sys_aut, spot_aut_sys = get_system_automaton(sys_formula)"
   ]
  },
  {
   "cell_type": "markdown",
   "metadata": {},
   "source": [
    "The output 'sys_aut' is shown in the image below. It is the automaton corresponding to the system objective $\\lozenge \\text{goal}$, and the accepting state ($q_0$) is highlighted in yellow.\n",
    "\n",
    "<img src=\"sys_aut.png\" alt=\"System automaton\" width=\"100\"/>"
   ]
  },
  {
   "cell_type": "markdown",
   "metadata": {},
   "source": [
    "## Test Objective\n",
    "The test objective consists of one or more reachability tasks, or sequenced reachability tasks.\n",
    "\n",
    "| Sub-task   | LTL Formula | Description |\n",
    "| -------- | ------- | --------|\n",
    "| Reachability  | $\\lozenge p$    | *eventually $p$*|\n",
    "| Sequenced Reachability | $\\lozenge (p \\land \\lozenge q)$ | *eventually $p$ and then eventually $q$*|\n",
    "\n",
    "For our example, the test objective is $\\varphi_{\\text{test}} = \\lozenge I$."
   ]
  },
  {
   "cell_type": "code",
   "execution_count": 14,
   "metadata": {},
   "outputs": [],
   "source": [
    "from floras.components.automata import get_tester_automaton\n",
    "\n",
    "test_formula = 'F(I)'\n",
    "test_aut, spot_aut_test = get_tester_automaton(test_formula)"
   ]
  },
  {
   "cell_type": "markdown",
   "metadata": {},
   "source": [
    "The output 'test_aut' is the automaton corresponding to the test objective, and is shown in the image below. The accepting state ($q_0$) is highlighted in blue. Note that the system and test objective automata states are labeled similarly but correspond to different states.\n",
    "\n",
    "<img src=\"test_aut.png\" alt=\"System automaton\" width=\"100\"/>"
   ]
  },
  {
   "cell_type": "markdown",
   "metadata": {},
   "source": [
    "## Constructing the Virtual Graphs\n",
    "\n",
    "### Constructing the Specification Automaton\n",
    "First, we construct the specification automaton of the system and test objectives. This is a custom definition, and the resulting automaton now captures the event-based progression of the test."
   ]
  },
  {
   "cell_type": "code",
   "execution_count": 15,
   "metadata": {},
   "outputs": [],
   "source": [
    "from floras.components.automata import get_product_automaton\n",
    "\n",
    "prod_aut = get_product_automaton(spot_aut_sys, spot_aut_test)"
   ]
  },
  {
   "cell_type": "markdown",
   "metadata": {},
   "source": [
    "The resulting specification product is shown in the following image. The system objective accepting states are highlighted in yellow and the states that are accepting for the test objective (but not the system objective) are highlighted in blue.\n",
    "\n",
    "<img src=\"prod_aut.png\" alt=\"Specification product\" width=\"200\"/>"
   ]
  },
  {
   "cell_type": "markdown",
   "metadata": {},
   "source": [
    "### Constructing the Virtual Graphs\n",
    "Once we have the specification product, we now create the virtual product graph and the virtual system graph. These graphs now contain the information from the transition system and correspond to the test executions that are physically possible for the system to take and how they correspond to the system and test objectives."
   ]
  },
  {
   "cell_type": "code",
   "execution_count": 16,
   "metadata": {},
   "outputs": [],
   "source": [
    "from floras.components.product import sync_prod\n",
    "\n",
    "# get virtual graphs\n",
    "virtual_sys = sync_prod(transys, sys_aut)\n",
    "virtual = sync_prod(transys, prod_aut)"
   ]
  },
  {
   "cell_type": "markdown",
   "metadata": {},
   "source": [
    "## Solving the Mixed-Integer Linear Program (MILP)\n",
    "\n",
    "Using these graphs, we can now set up the MILP to solve the test environment synthesis problem as follows. For this example, we want the restictions to be static obstacles on the grid, therefore we chose the *static* case."
   ]
  },
  {
   "cell_type": "code",
   "execution_count": 17,
   "metadata": {},
   "outputs": [
    {
     "name": "stdout",
     "output_type": "stream",
     "text": [
      "Set parameter Seed to value 98\n",
      "Gurobi Optimizer version 11.0.3 build v11.0.3rc0 (mac64[x86] - Darwin 23.6.0 23G93)\n",
      "\n",
      "CPU model: Intel(R) Core(TM) i7-1068NG7 CPU @ 2.30GHz\n",
      "Thread count: 4 physical cores, 8 logical processors, using up to 8 threads\n",
      "\n",
      "Optimize a model with 1558 rows, 345 columns and 2538 nonzeros\n",
      "Model fingerprint: 0x240b4dbc\n",
      "Variable types: 191 continuous, 154 integer (154 binary)\n",
      "Coefficient statistics:\n",
      "  Matrix range     [1e+00, 1e+00]\n",
      "  Objective range  [6e-03, 1e+00]\n",
      "  Bounds range     [1e+00, 1e+00]\n",
      "  RHS range        [1e+00, 1e+00]\n",
      "Presolve removed 1471 rows and 266 columns\n",
      "Presolve time: 0.01s\n",
      "Presolved: 87 rows, 79 columns, 258 nonzeros\n",
      "Variable types: 64 continuous, 15 integer (15 binary)\n",
      "Found heuristic solution: objective 1.8181818\n",
      "\n",
      "Root relaxation: objective 2.824675e+00, 36 iterations, 0.00 seconds (0.00 work units)\n",
      "\n",
      "    Nodes    |    Current Node    |     Objective Bounds      |     Work\n",
      " Expl Unexpl |  Obj  Depth IntInf | Incumbent    BestBd   Gap | It/Node Time\n",
      "\n",
      "     0     0    2.82468    0    6    1.81818    2.82468  55.4%     -    0s\n",
      "H    0     0                       2.8051948    2.82468  0.69%     -    0s\n",
      "     0     0    2.81818    0   10    2.80519    2.81818  0.46%     -    0s\n",
      "     0     0    2.80519    0    9    2.80519    2.80519  0.00%     -    0s\n",
      "\n",
      "Cutting planes:\n",
      "  Gomory: 4\n",
      "  MIR: 2\n",
      "  Flow cover: 1\n",
      "  RLT: 1\n",
      "\n",
      "Explored 1 nodes (66 simplex iterations) in 0.07 seconds (0.00 work units)\n",
      "Thread count was 8 (of 8 available processors)\n",
      "\n",
      "Solution count 2: 2.80519 1.81818 \n",
      "\n",
      "Optimal solution found (tolerance 1.00e-04)\n",
      "Best objective 2.805194805195e+00, best bound 2.805194805195e+00, gap 0.0000%\n",
      "\n",
      "User-callback calls 316, time in user-callback 0.01 sec\n",
      "model run time: 0.08700680732727051\n",
      "model bin vars: 154\n",
      "model continuous vars: 191\n",
      "model constraints: 1558\n"
     ]
    }
   ],
   "source": [
    "from floras.optimization.optimize import solve\n",
    "\n",
    "d, flow = solve(virtual, transys, prod_aut, virtual_sys, case='static')"
   ]
  },
  {
   "cell_type": "markdown",
   "metadata": {},
   "source": [
    "The resulting restrictions are captured in the output variable 'd', and they translate to static obstacles on the grid world. \n",
    "The output 'flow' captures the number of unique paths that exist on the virtual graph from the initial position to the system objective accepting state that pass through the test objective accepting states. In this example we have a flow of $3$, which corresponds to three different unique paths through the virtual graph.\n",
    "\n",
    "The cuts on the virtual product graph correspond to restricting the red dashed edges in this figure:\n",
    "\n",
    "<img src=\"medium_virtual_w_cuts.png\" alt=\"Virtual product graph with cuts\" width=\"700\"/>\n",
    "\n",
    "Which also correspond to the following restrictions on the grid:\n",
    "\n",
    "<img src=\"medium_result.png\" alt=\"Restriction on the grid\" width=\"300\"/>\n",
    "\n",
    "With these restrictions we can see that every successful system execution (reaching $T$), has to pass through one of the states labeled $I$ before arriving at $T$.\n"
   ]
  },
  {
   "cell_type": "markdown",
   "metadata": {},
   "source": [
    "## From a json File\n",
    "\n",
    "Instead of the code above, we can also define the problem in a json file. We can define the system model using the keywords \"mazefile\" (or \"states\" and \"transitions\"), \"init\", \"goals\", and \"labels\".\n",
    "\n",
    "The system objective is given in \"sysformula\" and the test objective is given in \"testformula\". The type of problem is defined to be static (as opposed to reactive).\n",
    "\n",
    "This is defined in the following json file *example.json*.\n",
    "\n",
    "```\n",
    "{\n",
    "      \"mazefile\" : \"gridworld.txt\",\n",
    "      \"init\" : [\"(2, 2)\"],\n",
    "      \"goals\" : [\"(0, 0)\", \"(0, 4)\"],\n",
    "      \"labels\" : {\n",
    "        \"(0,2)\": [\"I\"],\n",
    "        \"(2,0)\": [\"I\"],\n",
    "        \"(2,4)\": [\"I\"],\n",
    "        \"(0,0)\": [\"goal\"],\n",
    "        \"(0,4)\": [\"goal\"]\n",
    "      },\n",
    "      \"sysformula\" : \"F(goal)\",\n",
    "      \"testformula\" : \"F(I)\",\n",
    "      \"type\": \"static\"\n",
    "\n",
    "}\n",
    "```\n",
    "The problem can now be solved by running the following small script, which prints the output to the terminal."
   ]
  },
  {
   "cell_type": "code",
   "execution_count": 18,
   "metadata": {},
   "outputs": [
    {
     "name": "stdout",
     "output_type": "stream",
     "text": [
      "Set parameter Seed to value 25\n",
      "Gurobi Optimizer version 11.0.3 build v11.0.3rc0 (mac64[x86] - Darwin 23.6.0 23G93)\n",
      "\n",
      "CPU model: Intel(R) Core(TM) i7-1068NG7 CPU @ 2.30GHz\n",
      "Thread count: 4 physical cores, 8 logical processors, using up to 8 threads\n",
      "\n",
      "Optimize a model with 1558 rows, 345 columns and 2538 nonzeros\n",
      "Model fingerprint: 0xcea83b20\n",
      "Variable types: 191 continuous, 154 integer (154 binary)\n",
      "Coefficient statistics:\n",
      "  Matrix range     [1e+00, 1e+00]\n",
      "  Objective range  [6e-03, 1e+00]\n",
      "  Bounds range     [1e+00, 1e+00]\n",
      "  RHS range        [1e+00, 1e+00]\n",
      "Presolve removed 1471 rows and 266 columns\n",
      "Presolve time: 0.00s\n",
      "Presolved: 87 rows, 79 columns, 258 nonzeros\n",
      "Variable types: 64 continuous, 15 integer (15 binary)\n",
      "Found heuristic solution: objective 1.8181818\n",
      "Found heuristic solution: objective 1.8441558\n",
      "\n",
      "Root relaxation: objective 2.824675e+00, 32 iterations, 0.00 seconds (0.00 work units)\n",
      "\n",
      "    Nodes    |    Current Node    |     Objective Bounds      |     Work\n",
      " Expl Unexpl |  Obj  Depth IntInf | Incumbent    BestBd   Gap | It/Node Time\n",
      "\n",
      "     0     0    2.82468    0    8    1.84416    2.82468  53.2%     -    0s\n",
      "H    0     0                       2.7922078    2.82468  1.16%     -    0s\n",
      "H    0     0                       2.8051948    2.82468  0.69%     -    0s\n",
      "     0     0    2.82468    0    8    2.80519    2.82468  0.69%     -    0s\n",
      "     0     0    2.80904    0    8    2.80519    2.80904  0.14%     -    0s\n",
      "\n",
      "Cutting planes:\n",
      "  Implied bound: 4\n",
      "  MIR: 3\n",
      "  Flow cover: 2\n",
      "  Inf proof: 1\n",
      "\n",
      "Explored 1 nodes (50 simplex iterations) in 0.05 seconds (0.00 work units)\n",
      "Thread count was 8 (of 8 available processors)\n",
      "\n",
      "Solution count 4: 2.80519 2.79221 1.84416 1.81818 \n",
      "\n",
      "Optimal solution found (tolerance 1.00e-04)\n",
      "Best objective 2.805194805195e+00, best bound 2.805194805195e+00, gap 0.0000%\n",
      "\n",
      "User-callback calls 318, time in user-callback 0.01 sec\n",
      "model run time: 0.059771060943603516\n",
      "model bin vars: 154\n",
      "model continuous vars: 191\n",
      "model constraints: 1558\n",
      "((1, 1), 'q0') to ((1, 0), 'q0') at 1.0\n",
      "((1, 1), 'q0') to ((0, 1), 'q0') at 1.0\n",
      "((1, 3), 'q0') to ((1, 4), 'q0') at 1.0\n",
      "((1, 0), 'q3') to ((1, 1), 'q3') at 1.0\n",
      "((1, 0), 'q0') to ((1, 1), 'q0') at 1.0\n",
      "((0, 1), 'q0') to ((1, 1), 'q0') at 1.0\n",
      "((1, 4), 'q3') to ((1, 3), 'q3') at 1.0\n",
      "((1, 4), 'q0') to ((1, 3), 'q0') at 1.0\n",
      "((0, 3), 'q0') to ((0, 4), 'q2') at 1.0\n",
      "((0, 1), 'q3') to ((1, 1), 'q3') at 1.0\n",
      "((0, 3), 'q3') to ((0, 4), 'q1') at 1.0\n",
      "((1, 1), 'q3') to ((1, 0), 'q3') at 1.0\n",
      "((1, 1), 'q3') to ((0, 1), 'q3') at 1.0\n",
      "((1, 3), 'q3') to ((1, 4), 'q3') at 1.0\n",
      "((0, 4), 'q1') to ((0, 3), 'q1') at 1.0\n",
      "((0, 4), 'q2') to ((0, 3), 'q2') at 1.0\n",
      "((0, 1), 'q1') to ((1, 1), 'q1') at 1.0\n",
      "((1, 0), 'q1') to ((1, 1), 'q1') at 1.0\n",
      "((0, 1), 'q2') to ((1, 1), 'q2') at 1.0\n",
      "((1, 0), 'q2') to ((1, 1), 'q2') at 1.0\n",
      "((0, 3), 'q1') to ((0, 4), 'q1') at 1.0\n",
      "((1, 4), 'q1') to ((1, 3), 'q1') at 1.0\n",
      "((0, 3), 'q2') to ((0, 4), 'q2') at 1.0\n",
      "((1, 4), 'q2') to ((1, 3), 'q2') at 1.0\n",
      "((1, 1), 'q1') to ((1, 0), 'q1') at 1.0\n",
      "((1, 1), 'q1') to ((0, 1), 'q1') at 1.0\n",
      "((1, 1), 'q2') to ((1, 0), 'q2') at 1.0\n",
      "((1, 1), 'q2') to ((0, 1), 'q2') at 1.0\n",
      "((1, 3), 'q1') to ((1, 4), 'q1') at 1.0\n",
      "((1, 3), 'q2') to ((1, 4), 'q2') at 1.0\n"
     ]
    }
   ],
   "source": [
    "from floras.main import find_test_environment\n",
    "\n",
    "filename = 'example.json'\n",
    "d, flow = find_test_environment(filename)"
   ]
  },
  {
   "cell_type": "markdown",
   "metadata": {},
   "source": [
    "You can also call floras directly from the command line using a json file by running \n",
    "```from_json --filename example.json```\n",
    "from the command line. This will print the output to the terminal."
   ]
  },
  {
   "cell_type": "markdown",
   "metadata": {},
   "source": [
    "### References"
   ]
  },
  {
   "cell_type": "markdown",
   "metadata": {},
   "source": [
    "Baier, Christel, and Joost-Pieter Katoen. *Principles of model checking.* MIT press, 2008.\n",
    "\n",
    "[Josefine B. Graebener\\*, Apurva S. Badithela\\*, Denizalp Goktas, Wyatt Ubellacker, Eric V. Mazumdar, Aaron D. Ames, and Richard M. Murray. *Flow-Based Synthesis of Reactive Tests for Discrete Decision-Making Systems with Temporal Logic Specifications.* ArXiv abs/2404.09888, 2024.](https://arxiv.org/abs/2404.09888)\n"
   ]
  }
 ],
 "metadata": {
  "kernelspec": {
   "display_name": "python3.11-floras",
   "language": "python",
   "name": "python3"
  },
  "language_info": {
   "codemirror_mode": {
    "name": "ipython",
    "version": 3
   },
   "file_extension": ".py",
   "mimetype": "text/x-python",
   "name": "python",
   "nbconvert_exporter": "python",
   "pygments_lexer": "ipython3",
   "version": "3.11.10"
  }
 },
 "nbformat": 4,
 "nbformat_minor": 2
}
